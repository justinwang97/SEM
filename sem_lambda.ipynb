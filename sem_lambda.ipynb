{
 "cells": [
  {
   "cell_type": "code",
   "execution_count": 4,
   "metadata": {},
   "outputs": [],
   "source": [
    "using Pkg,LinearAlgebra, SparseArrays, Random,Distributions;"
   ]
  },
  {
   "cell_type": "code",
   "execution_count": 5,
   "metadata": {},
   "outputs": [
    {
     "data": {
      "text/plain": [
       "3×6 Array{Float64,2}:\n",
       " 2.0  3.0  0.0  0.0  0.0  0.0\n",
       " 0.0  0.0  1.0  3.0  0.0  0.0\n",
       " 0.0  0.0  0.0  0.0  1.0  2.0"
      ]
     },
     "execution_count": 5,
     "metadata": {},
     "output_type": "execute_result"
    }
   ],
   "source": [
    "y=[1,2,3]\n",
    "function get_Y(y)\n",
    "    m=length(y)#number of rows\n",
    "    n=m*(m-1) #number of columns\n",
    "    res = zeros(m,n) #set the result\n",
    "    start = 1\n",
    "    for i=1:length(y)\n",
    "        row = copy(y)\n",
    "        row = deleteat!(row, i)\n",
    "        res[i,start:start+m-2]=row\n",
    "        start = start+m-1\n",
    "    end\n",
    "    return res\n",
    "end\n",
    "get_Y(y)"
   ]
  },
  {
   "cell_type": "code",
   "execution_count": 6,
   "metadata": {},
   "outputs": [
    {
     "data": {
      "text/plain": [
       "3×6 Array{Float64,2}:\n",
       " 2.0  3.0  0.0  0.0  0.0  0.0\n",
       " 0.0  0.0  1.0  3.0  0.0  0.0\n",
       " 0.0  0.0  0.0  0.0  1.0  2.0"
      ]
     },
     "execution_count": 6,
     "metadata": {},
     "output_type": "execute_result"
    }
   ],
   "source": [
    "#fake data\n",
    "y1=[1,2,3]\n",
    "y2=[4,5,6]\n",
    "Y1=get_Y(y1)\n",
    "Y2=get_Y(y2)\n",
    "Y=[Y1,Y2]\n",
    "R=[1 0 0;0 2 0; 0 0 3]\n",
    "w1=[6,7,8]\n",
    "w2=[6,3,4]\n",
    "W=[w1,w2]\n",
    "t_square = 3\n",
    "lambda0 = 4\n",
    "get_Y(y1)"
   ]
  },
  {
   "cell_type": "code",
   "execution_count": 7,
   "metadata": {},
   "outputs": [
    {
     "data": {
      "text/plain": [
       "6-element Array{Float64,1}:\n",
       " 1.1853591066798517\n",
       " 0.5595683473769499\n",
       " 1.2850327876214134\n",
       " 0.9013032139006962\n",
       " 1.5191068511665973\n",
       " 0.8959346971400703"
      ]
     },
     "execution_count": 7,
     "metadata": {},
     "output_type": "execute_result"
    }
   ],
   "source": [
    "function get_para(Y,R,t_square,lambda0)\n",
    "    m = size(Y[1])[1]#number of rows\n",
    "    n=m*(m-1) #number of columns\n",
    "    first = zeros(n,n)\n",
    "    second=zeros(n,1)\n",
    "    for i=1:length(Y)\n",
    "        first += Y[i]'*inv(R)*Y[i]\n",
    "        second += Y[i]'*inv(R)*W[i]\n",
    "    end\n",
    "    first += Diagonal(repeat([t_square],n))\n",
    "    second += repeat([lambda0*t_square],n)\n",
    "    mu = vec(inv(first)*second)\n",
    "    return mu,Symmetric(inv(first))\n",
    "end\n",
    "\n",
    "\n",
    "#MCMC\n",
    "mu,var = get_para(Y,R,t_square,lambda0)\n",
    "rand(MvNormal(mu,Symmetric(var)))"
   ]
  },
  {
   "cell_type": "markdown",
   "metadata": {},
   "source": [
    "### My case"
   ]
  },
  {
   "cell_type": "code",
   "execution_count": 8,
   "metadata": {},
   "outputs": [
    {
     "data": {
      "text/plain": [
       "3×3 Array{Float64,2}:\n",
       " 0.0  0.0  0.0\n",
       " 2.0  0.0  0.0\n",
       " 0.0  2.0  3.0"
      ]
     },
     "execution_count": 8,
     "metadata": {},
     "output_type": "execute_result"
    }
   ],
   "source": [
    "y = [1,2,3]\n",
    "function get_my_Y(y)\n",
    "    m=length(y)#number of rows\n",
    "    n::Int64=(m*(m-1))/2 #number of columns\n",
    "    res = zeros(m,n) #set the result\n",
    "    start = 1\n",
    "    for i = 1:length(y)-1\n",
    "        row = y[2:i+1]\n",
    "        res[i+1,start:start + i - 1] = row\n",
    "        start = start + i\n",
    "    end\n",
    "    return res\n",
    "end\n",
    "get_my_Y(y)"
   ]
  },
  {
   "cell_type": "code",
   "execution_count": 9,
   "metadata": {},
   "outputs": [
    {
     "data": {
      "text/plain": [
       "4"
      ]
     },
     "execution_count": 9,
     "metadata": {},
     "output_type": "execute_result"
    }
   ],
   "source": [
    "#Making fake data\n",
    "y1=[1,2,3]\n",
    "y2=[4,5,6]\n",
    "Y1=get_my_Y(y1)\n",
    "Y2=get_my_Y(y2)\n",
    "Y=[Y1,Y2]\n",
    "R=[1 0 0;0 2 0; 0 0 3]\n",
    "w1=[6,7,8]\n",
    "w2=[6,3,4]\n",
    "W=[w1,w2]\n",
    "t_square = 3\n",
    "lambda0 = 4"
   ]
  },
  {
   "cell_type": "code",
   "execution_count": 10,
   "metadata": {},
   "outputs": [
    {
     "name": "stdout",
     "output_type": "stream",
     "text": [
      "  0.062743 seconds (66.29 k allocations: 3.308 MiB)\n"
     ]
    },
    {
     "data": {
      "text/plain": [
       "([1.51429, 1.14286, 0.793651], [0.0571429 -0.0 -0.0; -0.0 0.214286 -0.142857; -0.0 -0.142857 0.150794])"
      ]
     },
     "execution_count": 10,
     "metadata": {},
     "output_type": "execute_result"
    }
   ],
   "source": [
    "function get_para(Y,R,t_square,lambda0,W)\n",
    "    m = size(Y[1])[1]#number of rows\n",
    "    n::Int64=(m*(m-1))/2 #number of columns\n",
    "    first = zeros(n,n)\n",
    "    second=zeros(n,1)\n",
    "    for i=1:length(Y)\n",
    "        first += Y[i]'*inv(R)*Y[i]\n",
    "        second += Y[i]'*inv(R)*W[i]\n",
    "    end\n",
    "    first += Diagonal(repeat([t_square],n))\n",
    "    second += repeat([lambda0*t_square],n)    \n",
    "    mu = vec(inv(first)*second)\n",
    "    return mu,Symmetric(inv(first))\n",
    "end\n",
    "\n",
    "@time mu,var = get_para(Y,R,t_square,lambda0,W)\n",
    "#rand(MvNormal(mu,Symmetric(var)))"
   ]
  },
  {
   "cell_type": "code",
   "execution_count": 11,
   "metadata": {},
   "outputs": [
    {
     "data": {
      "text/plain": [
       "3-element Array{Float64,1}:\n",
       " 1.5142857142857142\n",
       " 1.1428571428571435\n",
       " 0.7936507936507936"
      ]
     },
     "execution_count": 11,
     "metadata": {},
     "output_type": "execute_result"
    }
   ],
   "source": [
    "mu"
   ]
  },
  {
   "cell_type": "code",
   "execution_count": 12,
   "metadata": {},
   "outputs": [
    {
     "data": {
      "text/plain": [
       "3×3 Symmetric{Float64,Array{Float64,2}}:\n",
       "  0.0571429  -0.0       -0.0     \n",
       " -0.0         0.214286  -0.142857\n",
       " -0.0        -0.142857   0.150794"
      ]
     },
     "execution_count": 12,
     "metadata": {},
     "output_type": "execute_result"
    }
   ],
   "source": [
    "var"
   ]
  },
  {
   "cell_type": "markdown",
   "metadata": {},
   "source": [
    "## Sampling by cholesky decomposition"
   ]
  },
  {
   "cell_type": "code",
   "execution_count": 936,
   "metadata": {},
   "outputs": [
    {
     "data": {
      "text/plain": [
       "3-element Array{Float64,1}:\n",
       " 1.3077669864914216 \n",
       " 1.9542904314155036 \n",
       " 0.18654086366161748"
      ]
     },
     "execution_count": 936,
     "metadata": {},
     "output_type": "execute_result"
    }
   ],
   "source": [
    "res = randn(3)\n",
    "res = L.U*res + mu\n",
    "function sampling(mu,var,n)\n",
    "    res = randn(n)\n",
    "    L = cholesky(var)\n",
    "    res = L.L*res + mu\n",
    "    return res\n",
    "end\n",
    "sampling(mu,var,3)"
   ]
  },
  {
   "cell_type": "code",
   "execution_count": 13,
   "metadata": {},
   "outputs": [
    {
     "data": {
      "text/plain": [
       "2"
      ]
     },
     "execution_count": 13,
     "metadata": {},
     "output_type": "execute_result"
    }
   ],
   "source": [
    "#Making fake data\n",
    "y1=[1,2,3]\n",
    "y2=[4,5,6]\n",
    "Y1=get_my_Y(y1)\n",
    "Y2=get_my_Y(y2)\n",
    "Y=[Y1,Y2]\n",
    "R=[1 0 0;0 2 0; 0 0 3]\n",
    "w1=[6 7 8]\n",
    "w2=[6 3 4]\n",
    "W=[w1 w2]\n",
    "t_square = 3\n",
    "lambda0 = 4\n",
    "number=2\n"
   ]
  },
  {
   "cell_type": "code",
   "execution_count": 15,
   "metadata": {},
   "outputs": [
    {
     "data": {
      "text/plain": [
       "6×3 Array{Float64,2}:\n",
       " 0.0  0.0  0.0\n",
       " 2.0  0.0  0.0\n",
       " 0.0  2.0  3.0\n",
       " 0.0  0.0  0.0\n",
       " 5.0  0.0  0.0\n",
       " 0.0  5.0  6.0"
      ]
     },
     "execution_count": 15,
     "metadata": {},
     "output_type": "execute_result"
    }
   ],
   "source": [
    "#Y is the data for all individuals\n",
    "\n",
    "#unlist function will tranfrom y from a list to a big matrix\n",
    "function unlist(Y)\n",
    "    res = Y[1]\n",
    "    for i = 2:length(Y)\n",
    "        res = vcat(res,Y[i])\n",
    "    end\n",
    "    return res\n",
    "end\n",
    "\n",
    "unlist(Y)"
   ]
  },
  {
   "cell_type": "code",
   "execution_count": 18,
   "metadata": {},
   "outputs": [
    {
     "data": {
      "text/plain": [
       "get_para (generic function with 3 methods)"
      ]
     },
     "execution_count": 18,
     "metadata": {},
     "output_type": "execute_result"
    }
   ],
   "source": [
    "function get_para(Y,R,W,t_square,lambda0,number)\n",
    "    m = size(Y[1])[1]#number of rows\n",
    "    n::Int64=(m*(m-1))/2 #number of columns\n",
    "    Y = unlist(Y) #Set big Y matrix\n",
    "    \n",
    "    #Define sparse matrix\n",
    "    I = collect(1:number*m); J=collect(1:number*m);V = repeat(diag(R),number)\n",
    "    R = sparse(I,J,V)\n",
    "    \n",
    "    #formula calculation\n",
    "    first = Y'*inv(Matrix(R))*Y + Diagonal(ones(m,m))\n",
    "    second = Y'*inv(Matrix(R))*transpose(vcat(W)) + ones(m,1)*lambda0*t_square\n",
    "    mu = vec(inv(first)*second)\n",
    "    return mu,Symmetric(inv(first))\n",
    "end\n",
    "\n"
   ]
  },
  {
   "cell_type": "code",
   "execution_count": 19,
   "metadata": {},
   "outputs": [
    {
     "data": {
      "text/plain": [
       "([1.70968, 1.8, 0.4], [0.0645161 0.0 -0.0; 0.0 0.6 -0.45; -0.0 -0.45 0.4])"
      ]
     },
     "execution_count": 19,
     "metadata": {},
     "output_type": "execute_result"
    }
   ],
   "source": [
    "a, b = get_para(Y,R,W,t_square,lambda0,number)"
   ]
  },
  {
   "cell_type": "markdown",
   "metadata": {},
   "source": [
    "### Sparse Version"
   ]
  },
  {
   "cell_type": "code",
   "execution_count": 20,
   "metadata": {},
   "outputs": [
    {
     "data": {
      "text/plain": [
       "3×3 SparseMatrixCSC{Float64,Int64} with 3 stored entries:\n",
       "  [2, 1]  =  2.0\n",
       "  [3, 2]  =  2.0\n",
       "  [3, 3]  =  3.0"
      ]
     },
     "execution_count": 20,
     "metadata": {},
     "output_type": "execute_result"
    }
   ],
   "source": [
    "#Y is a data for single persion\n",
    "y1 = [1,2,3]\n",
    "function get_sparse_Y(Y)\n",
    "    m = size(Y)[1] #number of rows\n",
    "    n::Int64=(m*(m-1))/2  #number of columns\n",
    "    col_index = collect(1:n)\n",
    "    row_index = [];value = []\n",
    "    for i = 2:m\n",
    "        current = fill(i,i-1) #get a element i with i-1 time\n",
    "        row_index = vcat(row_index,current)\n",
    "        current_value = Y[2:i]\n",
    "        value = vcat(value,current_value)\n",
    "    end\n",
    "    \n",
    "    #Return the sparse matrix\n",
    "    row_index = convert(Array{Int64,1}, row_index) #change Any type\n",
    "    value = convert(Array{Float64,1}, value) #Change Any type\n",
    "\n",
    "    res = sparse(row_index,col_index,value)\n",
    "end\n",
    "\n",
    "get_sparse_Y(y1)"
   ]
  },
  {
   "cell_type": "code",
   "execution_count": 21,
   "metadata": {},
   "outputs": [
    {
     "data": {
      "text/plain": [
       "10000"
      ]
     },
     "execution_count": 21,
     "metadata": {},
     "output_type": "execute_result"
    }
   ],
   "source": [
    "#Fake data\n",
    "y1=[1,2,3]\n",
    "y2=[4,5,6]\n",
    "ys1=get_sparse_Y(y1)\n",
    "ys2=get_sparse_Y(y2)\n",
    "YS = [ys1,ys2]\n",
    "R=[1 0 0;0 2 0; 0 0 3]\n",
    "w1=[6,7,8]\n",
    "w2=[6,3,4]\n",
    "W=[w1,w2]\n",
    "t_square = 3\n",
    "lambda0 = 4\n",
    "m = 3\n",
    "number = 10000"
   ]
  },
  {
   "cell_type": "code",
   "execution_count": 22,
   "metadata": {},
   "outputs": [
    {
     "data": {
      "text/plain": [
       "get_sparse_para (generic function with 1 method)"
      ]
     },
     "execution_count": 22,
     "metadata": {},
     "output_type": "execute_result"
    }
   ],
   "source": [
    "YS = repeat([get_sparse_Y(rand(3))],10000)\n",
    "YS = unlist(YS)\n",
    "#W=unlist(W)\n",
    "W = rand(30000)\n",
    "\n",
    "function get_sparse_para(YS,R,W,t_square,lambda0,number,m)\n",
    "    \n",
    "    #Define residual matrix\n",
    "    value = diag(R).^(-1)\n",
    "    RS = kron(sparse(I,number,number),sparse(1:m,1:m,value))\n",
    "    \n",
    "    #formula calculation\n",
    "    YS_RS_product = YS'*RS\n",
    "    first = YS_RS_product*YS + t_square*sparse(I,m,m)\n",
    "    second = YS_RS_product*W + ones(m,1)*lambda0*t_square\n",
    "    \n",
    "    #Return the result\n",
    "    first = inv(Matrix(first))\n",
    "    mu = vec(first*second)\n",
    "    var = Symmetric(first)\n",
    "    \n",
    "    #Take sample\n",
    "    res = rand(MvNormal(mu,var))\n",
    "    return res\n",
    "end"
   ]
  },
  {
   "cell_type": "code",
   "execution_count": 23,
   "metadata": {},
   "outputs": [
    {
     "name": "stdout",
     "output_type": "stream",
     "text": [
      "  0.946754 seconds (1.84 M allocations: 93.388 MiB, 3.52% gc time)\n"
     ]
    },
    {
     "data": {
      "text/plain": [
       "3-element Array{Float64,1}:\n",
       " 1.729572210267744 \n",
       " 1.2724447603244464\n",
       " 0.3541255587180224"
      ]
     },
     "execution_count": 23,
     "metadata": {},
     "output_type": "execute_result"
    }
   ],
   "source": [
    "#a,b = get_sparse_para(YS,R,W,t_square,lambda0,number,3)#\n",
    "@time lambda= get_sparse_para(YS,R,W,t_square,lambda0,number,m)"
   ]
  },
  {
   "cell_type": "code",
   "execution_count": 24,
   "metadata": {},
   "outputs": [
    {
     "data": {
      "text/plain": [
       "3000-element Array{Float64,1}:\n",
       " 0.34802452134817874\n",
       " 1.4149432317713164 \n",
       " 1.0652942817884665 \n",
       " 0.7825825792166521 \n",
       " 1.4453350020348745 \n",
       " 1.7537673738276358 \n",
       " 0.4599740409604103 \n",
       " 1.2862978406737835 \n",
       " 1.338930364090148  \n",
       " 0.9104190191302641 \n",
       " 1.6104364391544777 \n",
       " 1.4144511002748166 \n",
       " 0.09554676517904537\n",
       " ⋮                  \n",
       " 0.8620076163038042 \n",
       " 2.471519559559001  \n",
       " 1.5471924570753162 \n",
       " 0.9266985378004544 \n",
       " 1.7095096473746705 \n",
       " 1.2343259397796176 \n",
       " 0.4676316011375379 \n",
       " 0.8810097785854595 \n",
       " 1.3904296339995867 \n",
       " 0.6434511729910133 \n",
       " 1.5702555697471807 \n",
       " 1.5532405167262113 "
      ]
     },
     "execution_count": 24,
     "metadata": {},
     "output_type": "execute_result"
    }
   ],
   "source": [
    "y1 = rand(1000);y2 = rand(1000);y3=rand(1000)\n",
    "BigY = [y1;y2;y3]\n",
    "Lambda = [1 0 0; lambda[1] 1 0;lambda[2] lambda[3] 1]\n",
    "\n",
    "function Modify_Y(Lambda,Y,n_individuals)\n",
    "    Identy = Matrix{Int32}(I,n_individuals,n_individuals)\n",
    "    res = kron(Identy,Lambda)*BigY\n",
    "    return res\n",
    "end\n",
    "\n",
    "Modify_Y(Lambda,BigY,1000)"
   ]
  },
  {
   "cell_type": "code",
   "execution_count": null,
   "metadata": {},
   "outputs": [],
   "source": []
  }
 ],
 "metadata": {
  "kernelspec": {
   "display_name": "Julia 1.1.0",
   "language": "julia",
   "name": "julia-1.1"
  },
  "language_info": {
   "file_extension": ".jl",
   "mimetype": "application/julia",
   "name": "julia",
   "version": "1.1.0"
  }
 },
 "nbformat": 4,
 "nbformat_minor": 2
}
