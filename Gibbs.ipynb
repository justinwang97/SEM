{
 "cells": [
  {
   "cell_type": "code",
   "execution_count": 213,
   "metadata": {},
   "outputs": [
    {
     "name": "stdout",
     "output_type": "stream",
     "text": [
      "(-0.0024239937629068533, 2.213397816665245)\n"
     ]
    }
   ],
   "source": [
    "using Pkg,LinearAlgebra, SparseArrays,Compat, Random, VMLS,Distributions;\n",
    "\n",
    "A=rand(Normal(0,1),100)\n",
    "B=ones(100,1)\n",
    "X=hcat(B,A)\n",
    "y=2.234*A;\n",
    "sigma2=1\n",
    "\n",
    "function Gibbs(y,X,sigma2)\n",
    "    iter=100000; #The number of iterations \n",
    "    res = Array{Float64,2}(undef, iter, 2) #define the start value of beta0 and beta1\n",
    "    n1=length(y); #Calculate the number of vector\n",
    "    n2=X[:,2]'X[:,2];\n",
    "    n3=y'*X[:,2];\n",
    "    for i =2:iter #sample the values\n",
    "        #-------------updating beta0\n",
    "        mu0= (sum(y) - res[i-1,2]*sum(X[:,2]))/n1 #calculate the mu and var\n",
    "        var0= sigma2/n1\n",
    "        res[i,1]= rand(Normal(mu0, var0)) #Extract value from normal distribution \n",
    "        \n",
    "        #-------------updating beta1\n",
    "        mu1= (n3 - res[i,1]*sum(X[:,2]))/n2 #calculate the mu and var\n",
    "        var1= sigma2/n2\n",
    "        res[i,2]=rand(Normal(mu1, var1))\n",
    "    end\n",
    "    return res[iter,1],res[iter,2]\n",
    "end\n",
    "\n",
    "result=Gibbs(y,X,sigma2)\n",
    "println(result)"
   ]
  },
  {
   "cell_type": "code",
   "execution_count": 203,
   "metadata": {},
   "outputs": [
    {
     "name": "stdout",
     "output_type": "stream",
     "text": [
      "-115.55842453038142\n"
     ]
    }
   ],
   "source": [
    "using Pkg,LinearAlgebra, SparseArrays,Compat, Random, VMLS,Distributions;\n",
    "\n",
    "A=rand(Normal(0,1),100)\n",
    "B=ones(100,1)\n",
    "X=hcat(B,A)\n",
    "y=A;\n",
    "sigma2=1\n",
    "\n",
    "\n",
    "function Gibbs(y,X,sigma2)\n",
    "    iter=1000; #The number of iterations \n",
    "    res = Array{Float64,2}(undef, iter, 2) #define the start value of beta0 and beta1\n",
    "    n1=length(y); #Calculate the number of vector\n",
    "    n2=X[:,2]'X[:,2];\n",
    "    n3=y'*X[:,2];\n",
    "    for i =2:iter #sample the values\n",
    "        #-------------updating beta0\n",
    "        mu0= (sum(y) - res[i-1,2]*sum(X[:,2]))/n1 #calculate the mu and var\n",
    "        var0= sigma2/n1\n",
    "        res[i,1]= rand(Normal(mu0, var0)) #Extract value from normal distribution \n",
    "        \n",
    "        #-------------updating beta1\n",
    "        mu1= (n3 - res[i,1]*sum(X[:,2]))/n2 #calculate the mu and var\n",
    "        var1= sigma2/n2\n",
    "        res[i,2]=rand(Normal(mu1, var1))\n",
    "    end\n",
    "    \n",
    "    return res[iter,1],res[iter,2]\n",
    "end\n",
    "\n",
    "\n",
    "result=Gibbs(y,X,sigma2)\n",
    "println(var(A))"
   ]
  },
  {
   "cell_type": "code",
   "execution_count": 212,
   "metadata": {},
   "outputs": [
    {
     "data": {
      "text/plain": [
       "2"
      ]
     },
     "execution_count": 212,
     "metadata": {},
     "output_type": "execute_result"
    }
   ],
   "source": []
  },
  {
   "cell_type": "code",
   "execution_count": null,
   "metadata": {},
   "outputs": [],
   "source": []
  }
 ],
 "metadata": {
  "kernelspec": {
   "display_name": "Julia 1.0.1",
   "language": "julia",
   "name": "julia-1.0"
  },
  "language_info": {
   "file_extension": ".jl",
   "mimetype": "application/julia",
   "name": "julia",
   "version": "1.0.1"
  }
 },
 "nbformat": 4,
 "nbformat_minor": 2
}
